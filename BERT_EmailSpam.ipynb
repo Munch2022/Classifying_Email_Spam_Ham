{
 "cells": [
  {
   "cell_type": "code",
   "execution_count": 1,
   "id": "1c05a0af",
   "metadata": {},
   "outputs": [],
   "source": [
    "import pandas as pd\n",
    "import tensorflow as tf\n",
    "import tensorflow_hub as hub\n",
    "import tensorflow_text as text"
   ]
  },
  {
   "cell_type": "markdown",
   "id": "cf497263",
   "metadata": {},
   "source": [
    "# Using BERT and Tensorflow 2.0, we will write simple code to classify emails as spam or not spam. BERT will be used to generate sentence encoding for all emails and after that we will use a simple neural network with one drop out layer and one output layer. \n"
   ]
  },
  {
   "cell_type": "code",
   "execution_count": 2,
   "id": "05623a61",
   "metadata": {},
   "outputs": [],
   "source": [
    "edf= pd.read_csv(\"SMSCollection.csv\")"
   ]
  },
  {
   "cell_type": "code",
   "execution_count": 3,
   "id": "aa208dd1",
   "metadata": {},
   "outputs": [
    {
     "data": {
      "text/html": [
       "<div>\n",
       "<style scoped>\n",
       "    .dataframe tbody tr th:only-of-type {\n",
       "        vertical-align: middle;\n",
       "    }\n",
       "\n",
       "    .dataframe tbody tr th {\n",
       "        vertical-align: top;\n",
       "    }\n",
       "\n",
       "    .dataframe thead th {\n",
       "        text-align: right;\n",
       "    }\n",
       "</style>\n",
       "<table border=\"1\" class=\"dataframe\">\n",
       "  <thead>\n",
       "    <tr style=\"text-align: right;\">\n",
       "      <th></th>\n",
       "      <th>Class</th>\n",
       "      <th>sms</th>\n",
       "    </tr>\n",
       "  </thead>\n",
       "  <tbody>\n",
       "    <tr>\n",
       "      <th>0</th>\n",
       "      <td>ham</td>\n",
       "      <td>Go until jurong point, crazy.. Available only ...</td>\n",
       "    </tr>\n",
       "    <tr>\n",
       "      <th>1</th>\n",
       "      <td>ham</td>\n",
       "      <td>Ok lar... Joking wif u oni...</td>\n",
       "    </tr>\n",
       "    <tr>\n",
       "      <th>2</th>\n",
       "      <td>spam</td>\n",
       "      <td>Free entry in 2 a wkly comp to win FA Cup fina...</td>\n",
       "    </tr>\n",
       "    <tr>\n",
       "      <th>3</th>\n",
       "      <td>ham</td>\n",
       "      <td>U dun say so early hor... U c already then say...</td>\n",
       "    </tr>\n",
       "    <tr>\n",
       "      <th>4</th>\n",
       "      <td>ham</td>\n",
       "      <td>Nah I don't think he goes to usf, he lives aro...</td>\n",
       "    </tr>\n",
       "  </tbody>\n",
       "</table>\n",
       "</div>"
      ],
      "text/plain": [
       "  Class                                                sms\n",
       "0   ham  Go until jurong point, crazy.. Available only ...\n",
       "1   ham                      Ok lar... Joking wif u oni...\n",
       "2  spam  Free entry in 2 a wkly comp to win FA Cup fina...\n",
       "3   ham  U dun say so early hor... U c already then say...\n",
       "4   ham  Nah I don't think he goes to usf, he lives aro..."
      ]
     },
     "execution_count": 3,
     "metadata": {},
     "output_type": "execute_result"
    }
   ],
   "source": [
    "edf.head()"
   ]
  },
  {
   "cell_type": "code",
   "execution_count": 4,
   "id": "ecb378b7",
   "metadata": {},
   "outputs": [
    {
     "data": {
      "text/html": [
       "<div>\n",
       "<style scoped>\n",
       "    .dataframe tbody tr th:only-of-type {\n",
       "        vertical-align: middle;\n",
       "    }\n",
       "\n",
       "    .dataframe tbody tr th {\n",
       "        vertical-align: top;\n",
       "    }\n",
       "\n",
       "    .dataframe thead tr th {\n",
       "        text-align: left;\n",
       "    }\n",
       "\n",
       "    .dataframe thead tr:last-of-type th {\n",
       "        text-align: right;\n",
       "    }\n",
       "</style>\n",
       "<table border=\"1\" class=\"dataframe\">\n",
       "  <thead>\n",
       "    <tr>\n",
       "      <th></th>\n",
       "      <th colspan=\"4\" halign=\"left\">sms</th>\n",
       "    </tr>\n",
       "    <tr>\n",
       "      <th></th>\n",
       "      <th>count</th>\n",
       "      <th>unique</th>\n",
       "      <th>top</th>\n",
       "      <th>freq</th>\n",
       "    </tr>\n",
       "    <tr>\n",
       "      <th>Class</th>\n",
       "      <th></th>\n",
       "      <th></th>\n",
       "      <th></th>\n",
       "      <th></th>\n",
       "    </tr>\n",
       "  </thead>\n",
       "  <tbody>\n",
       "    <tr>\n",
       "      <th>ham</th>\n",
       "      <td>4825</td>\n",
       "      <td>4516</td>\n",
       "      <td>Sorry, I'll call later</td>\n",
       "      <td>30</td>\n",
       "    </tr>\n",
       "    <tr>\n",
       "      <th>spam</th>\n",
       "      <td>747</td>\n",
       "      <td>653</td>\n",
       "      <td>Please call our customer service representativ...</td>\n",
       "      <td>4</td>\n",
       "    </tr>\n",
       "  </tbody>\n",
       "</table>\n",
       "</div>"
      ],
      "text/plain": [
       "        sms                                                               \n",
       "      count unique                                                top freq\n",
       "Class                                                                     \n",
       "ham    4825   4516                             Sorry, I'll call later   30\n",
       "spam    747    653  Please call our customer service representativ...    4"
      ]
     },
     "execution_count": 4,
     "metadata": {},
     "output_type": "execute_result"
    }
   ],
   "source": [
    "edf.groupby('Class').describe()     \n",
    "\n",
    "# we see there is imbalance in spam and ham class. So we can use downsampling technique to balance the data"
   ]
  },
  {
   "cell_type": "code",
   "execution_count": 5,
   "id": "8caa4cef",
   "metadata": {},
   "outputs": [
    {
     "data": {
      "text/plain": [
       "ham     4825\n",
       "spam     747\n",
       "Name: Class, dtype: int64"
      ]
     },
     "execution_count": 5,
     "metadata": {},
     "output_type": "execute_result"
    }
   ],
   "source": [
    "edf['Class'].value_counts()        \n"
   ]
  },
  {
   "cell_type": "code",
   "execution_count": 6,
   "id": "c844870f",
   "metadata": {},
   "outputs": [
    {
     "data": {
      "text/plain": [
       "0.15481865284974095"
      ]
     },
     "execution_count": 6,
     "metadata": {},
     "output_type": "execute_result"
    }
   ],
   "source": [
    "747/4825\n",
    "\n",
    "# so here we see that 15% of the email are spam. So we will randomly pick any 747 emails from \n",
    "# ham and discard rest of them. that way we will have equal number of spam and ham. \n"
   ]
  },
  {
   "cell_type": "markdown",
   "id": "365e3748",
   "metadata": {},
   "source": [
    "# We have other methods to get balanced df but here we will use downsampling. \n",
    "for that we split ham and spam to 2 different df's"
   ]
  },
  {
   "cell_type": "code",
   "execution_count": 7,
   "id": "8581fe0c",
   "metadata": {},
   "outputs": [
    {
     "data": {
      "text/plain": [
       "(747, 2)"
      ]
     },
     "execution_count": 7,
     "metadata": {},
     "output_type": "execute_result"
    }
   ],
   "source": [
    "edf_spam= edf[edf['Class']== 'spam']\n",
    "edf_spam.shape"
   ]
  },
  {
   "cell_type": "code",
   "execution_count": 8,
   "id": "28d7852e",
   "metadata": {},
   "outputs": [
    {
     "data": {
      "text/plain": [
       "(4825, 2)"
      ]
     },
     "execution_count": 8,
     "metadata": {},
     "output_type": "execute_result"
    }
   ],
   "source": [
    "edf_ham= edf[edf['Class'] == 'ham']\n",
    "edf_ham.shape"
   ]
  },
  {
   "cell_type": "code",
   "execution_count": 9,
   "id": "99484bac",
   "metadata": {},
   "outputs": [
    {
     "data": {
      "text/plain": [
       "(747, 2)"
      ]
     },
     "execution_count": 9,
     "metadata": {},
     "output_type": "execute_result"
    }
   ],
   "source": [
    "edf_ham_downsampled= edf_ham.sample(edf_spam.shape[0])   # here im equalizing ham with the shape of spam\n",
    "edf_ham_downsampled.shape"
   ]
  },
  {
   "cell_type": "code",
   "execution_count": 10,
   "id": "a37b146d",
   "metadata": {},
   "outputs": [
    {
     "data": {
      "text/plain": [
       "(1494, 2)"
      ]
     },
     "execution_count": 10,
     "metadata": {},
     "output_type": "execute_result"
    }
   ],
   "source": [
    "#  now since I have both in equal shape, will now concate them \n",
    "\n",
    "edf_balanced= pd.concat([edf_spam, edf_ham_downsampled])\n",
    "edf_balanced.shape"
   ]
  },
  {
   "cell_type": "code",
   "execution_count": 11,
   "id": "bfca68ec",
   "metadata": {},
   "outputs": [
    {
     "data": {
      "text/plain": [
       "spam    747\n",
       "ham     747\n",
       "Name: Class, dtype: int64"
      ]
     },
     "execution_count": 11,
     "metadata": {},
     "output_type": "execute_result"
    }
   ],
   "source": [
    "edf_balanced.Class.value_counts()  \n",
    "\n",
    "# for now 747 ham is taken in and others are discarded but thats actually not good,its just for practice purpose"
   ]
  },
  {
   "cell_type": "code",
   "execution_count": 12,
   "id": "5f71aa6c",
   "metadata": {},
   "outputs": [
    {
     "data": {
      "text/html": [
       "<div>\n",
       "<style scoped>\n",
       "    .dataframe tbody tr th:only-of-type {\n",
       "        vertical-align: middle;\n",
       "    }\n",
       "\n",
       "    .dataframe tbody tr th {\n",
       "        vertical-align: top;\n",
       "    }\n",
       "\n",
       "    .dataframe thead th {\n",
       "        text-align: right;\n",
       "    }\n",
       "</style>\n",
       "<table border=\"1\" class=\"dataframe\">\n",
       "  <thead>\n",
       "    <tr style=\"text-align: right;\">\n",
       "      <th></th>\n",
       "      <th>Class</th>\n",
       "      <th>sms</th>\n",
       "    </tr>\n",
       "  </thead>\n",
       "  <tbody>\n",
       "    <tr>\n",
       "      <th>4629</th>\n",
       "      <td>spam</td>\n",
       "      <td>Todays Voda numbers ending with 7634 are selec...</td>\n",
       "    </tr>\n",
       "    <tr>\n",
       "      <th>225</th>\n",
       "      <td>spam</td>\n",
       "      <td>500 New Mobiles from 2004, MUST GO! Txt: NOKIA...</td>\n",
       "    </tr>\n",
       "    <tr>\n",
       "      <th>4674</th>\n",
       "      <td>ham</td>\n",
       "      <td>I forgot 2 ask ü all smth.. There's a card on ...</td>\n",
       "    </tr>\n",
       "    <tr>\n",
       "      <th>3877</th>\n",
       "      <td>ham</td>\n",
       "      <td>did u get that message</td>\n",
       "    </tr>\n",
       "    <tr>\n",
       "      <th>3836</th>\n",
       "      <td>ham</td>\n",
       "      <td>I'm thinking that chennai forgot to come for a...</td>\n",
       "    </tr>\n",
       "  </tbody>\n",
       "</table>\n",
       "</div>"
      ],
      "text/plain": [
       "     Class                                                sms\n",
       "4629  spam  Todays Voda numbers ending with 7634 are selec...\n",
       "225   spam  500 New Mobiles from 2004, MUST GO! Txt: NOKIA...\n",
       "4674   ham  I forgot 2 ask ü all smth.. There's a card on ...\n",
       "3877   ham                             did u get that message\n",
       "3836   ham  I'm thinking that chennai forgot to come for a..."
      ]
     },
     "execution_count": 12,
     "metadata": {},
     "output_type": "execute_result"
    }
   ],
   "source": [
    "edf_balanced.sample(5)           # this 'sample' will randomly pick data"
   ]
  },
  {
   "cell_type": "code",
   "execution_count": 13,
   "id": "84b5eb3c",
   "metadata": {},
   "outputs": [
    {
     "data": {
      "text/html": [
       "<div>\n",
       "<style scoped>\n",
       "    .dataframe tbody tr th:only-of-type {\n",
       "        vertical-align: middle;\n",
       "    }\n",
       "\n",
       "    .dataframe tbody tr th {\n",
       "        vertical-align: top;\n",
       "    }\n",
       "\n",
       "    .dataframe thead th {\n",
       "        text-align: right;\n",
       "    }\n",
       "</style>\n",
       "<table border=\"1\" class=\"dataframe\">\n",
       "  <thead>\n",
       "    <tr style=\"text-align: right;\">\n",
       "      <th></th>\n",
       "      <th>Class</th>\n",
       "      <th>sms</th>\n",
       "      <th>spam</th>\n",
       "    </tr>\n",
       "  </thead>\n",
       "  <tbody>\n",
       "    <tr>\n",
       "      <th>4903</th>\n",
       "      <td>spam</td>\n",
       "      <td>* FREE* POLYPHONIC RINGTONE Text SUPER to 8713...</td>\n",
       "      <td>1</td>\n",
       "    </tr>\n",
       "    <tr>\n",
       "      <th>3463</th>\n",
       "      <td>spam</td>\n",
       "      <td>Bloomberg -Message center +447797706009 Why wa...</td>\n",
       "      <td>1</td>\n",
       "    </tr>\n",
       "    <tr>\n",
       "      <th>869</th>\n",
       "      <td>spam</td>\n",
       "      <td>Hello. We need some posh birds and chaps to us...</td>\n",
       "      <td>1</td>\n",
       "    </tr>\n",
       "    <tr>\n",
       "      <th>5096</th>\n",
       "      <td>ham</td>\n",
       "      <td>But i'm really really broke oh. No amount is t...</td>\n",
       "      <td>0</td>\n",
       "    </tr>\n",
       "    <tr>\n",
       "      <th>2146</th>\n",
       "      <td>spam</td>\n",
       "      <td>Sunshine Hols. To claim ur med holiday send a ...</td>\n",
       "      <td>1</td>\n",
       "    </tr>\n",
       "  </tbody>\n",
       "</table>\n",
       "</div>"
      ],
      "text/plain": [
       "     Class                                                sms  spam\n",
       "4903  spam  * FREE* POLYPHONIC RINGTONE Text SUPER to 8713...     1\n",
       "3463  spam  Bloomberg -Message center +447797706009 Why wa...     1\n",
       "869   spam  Hello. We need some posh birds and chaps to us...     1\n",
       "5096   ham  But i'm really really broke oh. No amount is t...     0\n",
       "2146  spam  Sunshine Hols. To claim ur med holiday send a ...     1"
      ]
     },
     "execution_count": 13,
     "metadata": {},
     "output_type": "execute_result"
    }
   ],
   "source": [
    "#  lets create a new col. We can create a new col with the original df by applying a function within that\n",
    "# here we are applying labmda function. \n",
    "\n",
    "edf_balanced['spam']= edf_balanced['Class'].apply(lambda x: 1 if x== 'spam' else 0)\n",
    "edf_balanced.sample(5)"
   ]
  },
  {
   "cell_type": "code",
   "execution_count": 14,
   "id": "6b25bae3",
   "metadata": {},
   "outputs": [],
   "source": [
    "#  now the df is ready. we need to split our df with train and test data\n",
    "\n",
    "from sklearn.model_selection import train_test_split\n",
    "x_train, x_test, y_train, y_test= train_test_split(edf_balanced['sms'], edf_balanced['spam'], stratify= edf_balanced['spam'])\n",
    "\n",
    "# we are using startify so that in the train and test the distribution of categories are equal"
   ]
  },
  {
   "cell_type": "code",
   "execution_count": 15,
   "id": "22a49c33",
   "metadata": {},
   "outputs": [
    {
     "data": {
      "text/plain": [
       "1650                       ITS A LAPTOP TAKE IT WITH YOU.\n",
       "424     URGENT! Your Mobile number has been awarded wi...\n",
       "2666                       R u meeting da ge at nite tmr?\n",
       "591     For ur chance to win a £250 wkly shopping spre...\n",
       "Name: sms, dtype: object"
      ]
     },
     "execution_count": 15,
     "metadata": {},
     "output_type": "execute_result"
    }
   ],
   "source": [
    "x_train.head(4)"
   ]
  },
  {
   "cell_type": "markdown",
   "id": "a709bc70",
   "metadata": {},
   "source": [
    "# Now we will start with BERT model"
   ]
  },
  {
   "cell_type": "code",
   "execution_count": 16,
   "id": "949369b2",
   "metadata": {},
   "outputs": [],
   "source": [
    "# these are the trained models that are already availble in tensorflow hub website . \n",
    "# we are just copying the url for preprocessing and encoder to download those trained models \n",
    "\n",
    "bert_preprocessed= hub.KerasLayer(\"https://tfhub.dev/tensorflow/bert_en_uncased_preprocess/3\")\n",
    "bert_encoder= hub.KerasLayer(\"https://tfhub.dev/tensorflow/bert_en_uncased_L-12_H-768_A-12/4\")\n",
    "\n",
    "# this will download the trained models to ur local system\n"
   ]
  },
  {
   "cell_type": "code",
   "execution_count": 17,
   "id": "69e9d977",
   "metadata": {},
   "outputs": [],
   "source": [
    "# below is the example im trying with trained bert models\n",
    "\n",
    "# sentence= \"500$ discount on purchase of 2500\"bert_preprocessed\n",
    "# prepr_text= bert_preprocessed(sentence)\n",
    "# ouput= bert_encoder(prepr_text)['pooled_output']"
   ]
  },
  {
   "cell_type": "code",
   "execution_count": 19,
   "id": "44ed4dac",
   "metadata": {},
   "outputs": [],
   "source": [
    "# lets first define our bert layers-- \n",
    "text_input= tf.keras.layers.Input(shape=(), dtype=tf.string, name= \"text\")\n",
    "preprocessed_text= bert_preprocessed(text_input)\n",
    "outputs= bert_encoder(preprocessed_text)\n",
    "\n",
    "\n",
    "# lets define our Neural network layers\n",
    "l= tf.keras.layers.Dropout(0.1, name='dropout')(outputs['pooled_output'])\n",
    "l= tf.keras.layers.Dense(1, activation= 'sigmoid', name= 'ouput')(l)\n",
    "\n",
    "# contruct final model\n",
    "model= tf.keras.Model(inputs=[text_input], outputs= [l])"
   ]
  },
  {
   "cell_type": "code",
   "execution_count": 20,
   "id": "cff4be51",
   "metadata": {},
   "outputs": [
    {
     "name": "stdout",
     "output_type": "stream",
     "text": [
      "Model: \"model\"\n",
      "__________________________________________________________________________________________________\n",
      " Layer (type)                   Output Shape         Param #     Connected to                     \n",
      "==================================================================================================\n",
      " text (InputLayer)              [(None,)]            0           []                               \n",
      "                                                                                                  \n",
      " keras_layer (KerasLayer)       {'input_type_ids':   0           ['text[0][0]']                   \n",
      "                                (None, 128),                                                      \n",
      "                                 'input_mask': (Non                                               \n",
      "                                e, 128),                                                          \n",
      "                                 'input_word_ids':                                                \n",
      "                                (None, 128)}                                                      \n",
      "                                                                                                  \n",
      " keras_layer_1 (KerasLayer)     {'encoder_outputs':  109482241   ['keras_layer[1][0]',            \n",
      "                                 [(None, 128, 768),               'keras_layer[1][1]',            \n",
      "                                 (None, 128, 768),                'keras_layer[1][2]']            \n",
      "                                 (None, 128, 768),                                                \n",
      "                                 (None, 128, 768),                                                \n",
      "                                 (None, 128, 768),                                                \n",
      "                                 (None, 128, 768),                                                \n",
      "                                 (None, 128, 768),                                                \n",
      "                                 (None, 128, 768),                                                \n",
      "                                 (None, 128, 768),                                                \n",
      "                                 (None, 128, 768),                                                \n",
      "                                 (None, 128, 768),                                                \n",
      "                                 (None, 128, 768)],                                               \n",
      "                                 'sequence_output':                                               \n",
      "                                 (None, 128, 768),                                                \n",
      "                                 'pooled_output': (                                               \n",
      "                                None, 768),                                                       \n",
      "                                 'default': (None,                                                \n",
      "                                768)}                                                             \n",
      "                                                                                                  \n",
      " dropout (Dropout)              (None, 768)          0           ['keras_layer_1[1][13]']         \n",
      "                                                                                                  \n",
      " ouput (Dense)                  (None, 1)            769         ['dropout[0][0]']                \n",
      "                                                                                                  \n",
      "==================================================================================================\n",
      "Total params: 109,483,010\n",
      "Trainable params: 769\n",
      "Non-trainable params: 109,482,241\n",
      "__________________________________________________________________________________________________\n"
     ]
    }
   ],
   "source": [
    "model.summary()"
   ]
  },
  {
   "cell_type": "markdown",
   "id": "fd08fe06",
   "metadata": {},
   "source": [
    "# from the above line we see 769 parameters are trainable ie, 768 + 1 dense neuron. rest of the parameters are nontrainable as its pretrained already"
   ]
  },
  {
   "cell_type": "code",
   "execution_count": 23,
   "id": "07fd91fe",
   "metadata": {},
   "outputs": [],
   "source": [
    "#  now we need to compile the model\n",
    "\n",
    "METRICS= [\n",
    "    tf.keras.metrics.BinaryAccuracy(name= 'accuracy'),\n",
    "    tf.keras.metrics.Precision(name= 'precision'),\n",
    "    tf.keras.metrics.Recall(name='recall')\n",
    "]\n",
    "\n",
    "model.compile(optimizer= 'adam',\n",
    "             loss= 'binary_crossentropy',\n",
    "             metrics= METRICS)                        \n",
    "\n",
    "\n",
    "# METRICS willnot have any impact on actual training coz this is driven by loss function, \n",
    "# METRICS is just to have an idea on how our training is working. "
   ]
  },
  {
   "cell_type": "code",
   "execution_count": 25,
   "id": "2ad3ffe1",
   "metadata": {},
   "outputs": [
    {
     "name": "stdout",
     "output_type": "stream",
     "text": [
      "35/35 [==============================] - 226s 6s/step - loss: 0.4271 - accuracy: 0.8446 - precision: 0.8351 - recall: 0.8589\n"
     ]
    },
    {
     "data": {
      "text/plain": [
       "<keras.callbacks.History at 0x10cea0a7190>"
      ]
     },
     "execution_count": 25,
     "metadata": {},
     "output_type": "execute_result"
    }
   ],
   "source": [
    "#  now everything is ready, lets fit the model \n",
    "\n",
    "model.fit(x_train, y_train, epochs=1)    #just give2,3 epochs thats enough\n",
    "\n",
    "# Note since we have balanced the dataset we can relay on accuracy but in general when \n",
    "# its imbalanced dataset we cant rely on aacuracy"
   ]
  },
  {
   "cell_type": "code",
   "execution_count": 26,
   "id": "e5571693",
   "metadata": {},
   "outputs": [
    {
     "name": "stdout",
     "output_type": "stream",
     "text": [
      "12/12 [==============================] - 83s 7s/step - loss: 0.3906 - accuracy: 0.8957 - precision: 0.9512 - recall: 0.8342\n"
     ]
    },
    {
     "data": {
      "text/plain": [
       "[0.39059120416641235,\n",
       " 0.8957219123840332,\n",
       " 0.9512194991111755,\n",
       " 0.8342245817184448]"
      ]
     },
     "execution_count": 26,
     "metadata": {},
     "output_type": "execute_result"
    }
   ],
   "source": [
    "#  we then evaluate\n",
    "model.evaluate(x_test, y_test)    # on test set I get more accuarcy but its fine coz I trained only for 3epochs"
   ]
  },
  {
   "cell_type": "code",
   "execution_count": 32,
   "id": "0a27f06d",
   "metadata": {},
   "outputs": [],
   "source": [
    "# y_pred= model.predict(x_test)      # interupted teh kernel coz it was again running (too much computational power so stopped)\n",
    "# y_pred[:5]"
   ]
  },
  {
   "cell_type": "code",
   "execution_count": 28,
   "id": "ba6a37c2",
   "metadata": {},
   "outputs": [],
   "source": [
    "y_pred= y_pred.flatten()            # since we have 2dim array we will flatten this to 1D"
   ]
  },
  {
   "cell_type": "code",
   "execution_count": 29,
   "id": "95d1272f",
   "metadata": {},
   "outputs": [
    {
     "data": {
      "text/plain": [
       "array([0.36089966, 0.06463287, 0.5514777 , 0.36435336, 0.74174947],\n",
       "      dtype=float32)"
      ]
     },
     "execution_count": 29,
     "metadata": {},
     "output_type": "execute_result"
    }
   ],
   "source": [
    "y_pred[:5]               # we have it in 1D"
   ]
  },
  {
   "cell_type": "code",
   "execution_count": 33,
   "id": "d9fea757",
   "metadata": {},
   "outputs": [
    {
     "data": {
      "text/plain": [
       "array([0, 0, 1, 0, 1, 1, 0, 0, 0, 0, 0, 0, 0, 0, 1, 0, 1, 0, 1, 0, 0, 0,\n",
       "       0, 0, 1, 1, 0, 0, 1, 1, 0, 1, 0, 0, 1, 1, 0, 0, 0, 1, 0, 1, 1, 0,\n",
       "       1, 1, 0, 1, 1, 0, 1, 0, 0, 0, 0, 0, 1, 1, 0, 1, 0, 0, 1, 0, 0, 0,\n",
       "       1, 1, 1, 1, 0, 0, 0, 1, 0, 1, 0, 1, 0, 1, 1, 0, 1, 0, 1, 1, 1, 0,\n",
       "       0, 0, 1, 1, 1, 1, 1, 0, 0, 0, 0, 0, 1, 1, 1, 1, 1, 1, 1, 0, 0, 0,\n",
       "       1, 1, 0, 0, 1, 1, 1, 0, 0, 0, 0, 1, 1, 0, 0, 1, 1, 0, 1, 1, 1, 1,\n",
       "       1, 1, 1, 0, 1, 0, 0, 1, 1, 0, 0, 0, 0, 0, 1, 0, 0, 1, 0, 1, 0, 1,\n",
       "       0, 0, 1, 1, 1, 0, 0, 0, 0, 0, 0, 1, 0, 0, 0, 0, 0, 1, 1, 1, 0, 1,\n",
       "       1, 0, 0, 1, 0, 0, 0, 0, 0, 1, 0, 0, 0, 0, 0, 0, 1, 0, 1, 0, 0, 1,\n",
       "       1, 0, 0, 0, 1, 1, 1, 1, 1, 0, 0, 0, 1, 1, 0, 0, 1, 0, 0, 0, 1, 1,\n",
       "       0, 0, 0, 0, 1, 0, 0, 0, 0, 0, 0, 0, 0, 0, 0, 1, 1, 1, 0, 1, 1, 0,\n",
       "       1, 1, 1, 1, 0, 1, 0, 1, 0, 0, 1, 1, 0, 0, 0, 0, 0, 0, 1, 0, 0, 0,\n",
       "       0, 1, 0, 1, 1, 1, 0, 0, 1, 1, 1, 1, 1, 1, 0, 0, 0, 1, 1, 0, 1, 1,\n",
       "       1, 0, 1, 1, 1, 0, 1, 0, 0, 0, 1, 1, 1, 0, 0, 0, 1, 0, 1, 1, 1, 0,\n",
       "       0, 0, 0, 0, 1, 0, 0, 0, 1, 0, 0, 0, 0, 0, 0, 0, 1, 1, 0, 0, 0, 0,\n",
       "       1, 1, 0, 0, 0, 1, 0, 1, 1, 0, 1, 0, 0, 1, 0, 0, 1, 1, 1, 1, 0, 1,\n",
       "       1, 1, 1, 0, 1, 1, 0, 1, 1, 0, 0, 0, 1, 1, 0, 0, 0, 0, 0, 0, 0, 0])"
      ]
     },
     "execution_count": 33,
     "metadata": {},
     "output_type": "execute_result"
    }
   ],
   "source": [
    "#  now we know that sigmoid if its more that 0.5 then its spam else its ham\n",
    "# so we can write that condition to get more resize o/p \n",
    "\n",
    "import numpy as np\n",
    "y_pred= np.where(y_pred > 0.5, 1, 0)\n",
    "y_pred"
   ]
  },
  {
   "cell_type": "code",
   "execution_count": 35,
   "id": "401b0c75",
   "metadata": {},
   "outputs": [
    {
     "data": {
      "text/plain": [
       "array([[179,   8],\n",
       "       [ 31, 156]], dtype=int64)"
      ]
     },
     "execution_count": 35,
     "metadata": {},
     "output_type": "execute_result"
    }
   ],
   "source": [
    "#  using y_test and y_pred we can plot confussion matrix \n",
    "\n",
    "from sklearn.metrics import confusion_matrix, classification_report\n",
    "\n",
    "cm= confusion_matrix(y_test, y_pred)\n",
    "cm"
   ]
  },
  {
   "cell_type": "code",
   "execution_count": 37,
   "id": "5252a52e",
   "metadata": {},
   "outputs": [
    {
     "data": {
      "text/plain": [
       "Text(33.0, 0.5, 'Actual')"
      ]
     },
     "execution_count": 37,
     "metadata": {},
     "output_type": "execute_result"
    },
    {
     "data": {
      "image/png": "[encoded data removed]",
      "text/plain": [
       "<Figure size 432x288 with 2 Axes>"
      ]
     },
     "metadata": {
      "needs_background": "light"
     },
     "output_type": "display_data"
    }
   ],
   "source": [
    "#  the same above matrix we can get in seaborn also so that its more apealing\n",
    "\n",
    "import seaborn as sns\n",
    "import matplotlib.pyplot as plt\n",
    "sns.heatmap(cm, annot=True, fmt='d')\n",
    "plt.xlabel('Predicted')\n",
    "plt.ylabel('Actual')\n"
   ]
  },
  {
   "cell_type": "code",
   "execution_count": 39,
   "id": "b04abd1c",
   "metadata": {},
   "outputs": [
    {
     "name": "stdout",
     "output_type": "stream",
     "text": [
      "              precision    recall  f1-score   support\n",
      "\n",
      "           0       0.85      0.96      0.90       187\n",
      "           1       0.95      0.83      0.89       187\n",
      "\n",
      "    accuracy                           0.90       374\n",
      "   macro avg       0.90      0.90      0.90       374\n",
      "weighted avg       0.90      0.90      0.90       374\n",
      "\n"
     ]
    }
   ],
   "source": [
    "print(classification_report(y_test, y_pred))"
   ]
  },
  {
   "cell_type": "markdown",
   "id": "4c4a2773",
   "metadata": {},
   "source": [
    "# Inference - means checking with examples or real data"
   ]
  },
  {
   "cell_type": "code",
   "execution_count": 49,
   "id": "3d0d3f05",
   "metadata": {},
   "outputs": [
    {
     "name": "stdout",
     "output_type": "stream",
     "text": [
      "1/1 [==============================] - 1s 939ms/step\n"
     ]
    },
    {
     "data": {
      "text/plain": [
       "array([[0.39843616],\n",
       "       [0.48509508],\n",
       "       [0.38661397],\n",
       "       [0.10114011],\n",
       "       [0.262087  ]], dtype=float32)"
      ]
     },
     "execution_count": 49,
     "metadata": {},
     "output_type": "execute_result"
    }
   ],
   "source": [
    "reviews= [\n",
    "    'WINNER! As a valued network customer you have been selected to receivea £900 prize reward!',\n",
    "    'Enter a chance to win $5000, hurry up offer valid till tommorow',\n",
    "    'Your 500 free text messages are valid till dec 2022',\n",
    "    'Hey! are you attending confenrence call tomorow',\n",
    "    \"Hi Nicole, How rae doing?\"\n",
    "]\n",
    "\n",
    "model.predict(reviews)                            # this is giving me right o/p for the last 2 but for first 3 its close to 0.5"
   ]
  },
  {
   "cell_type": "code",
   "execution_count": 42,
   "id": "bb65f76f",
   "metadata": {},
   "outputs": [
    {
     "name": "stdout",
     "output_type": "stream",
     "text": [
      "1/1 [==============================] - 0s 272ms/step\n"
     ]
    },
    {
     "data": {
      "text/plain": [
       "array([[0.5541178]], dtype=float32)"
      ]
     },
     "execution_count": 42,
     "metadata": {},
     "output_type": "execute_result"
    }
   ],
   "source": [
    "sentence= [\"500$ discount on purchase of 2500\"]\n",
    "model.predict(sentence)                  # tihs is more than 0.5 so its predicting that its spam"
   ]
  },
  {
   "cell_type": "code",
   "execution_count": null,
   "id": "2d24ffbc",
   "metadata": {},
   "outputs": [],
   "source": []
  }
 ],
 "metadata": {
  "kernelspec": {
   "display_name": "venvDL1",
   "language": "python",
   "name": "venvdl1"
  },
  "language_info": {
   "codemirror_mode": {
    "name": "ipython",
    "version": 3
   },
   "file_extension": ".py",
   "mimetype": "text/x-python",
   "name": "python",
   "nbconvert_exporter": "python",
   "pygments_lexer": "ipython3",
   "version": "3.9.7"
  }
 },
 "nbformat": 4,
 "nbformat_minor": 5
}
